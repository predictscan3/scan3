{
 "cells": [
  {
   "cell_type": "code",
   "execution_count": 1,
   "metadata": {},
   "outputs": [],
   "source": [
    "from os.path import join, basename, dirname\n",
    "import pandas as pd\n",
    "import numpy as np\n",
    "import matplotlib.pyplot as plt\n",
    "from sys import path\n",
    "from os import getcwd\n",
    "\n",
    "# Sort out paths so that this can use functions from the main codebase\n",
    "path.insert(0, dirname(getcwd()))\n",
    "\n",
    "import environment\n",
    "from scan3 import settings"
   ]
  },
  {
   "cell_type": "code",
   "execution_count": 2,
   "metadata": {},
   "outputs": [
    {
     "name": "stdout",
     "output_type": "stream",
     "text": [
      "Loaded 63788 rows of data\n"
     ]
    },
    {
     "name": "stderr",
     "output_type": "stream",
     "text": [
      "/Users/lukelatimer/.conda/envs/scan3/lib/python3.6/site-packages/IPython/core/interactiveshell.py:3020: DtypeWarning: Columns (50) have mixed types. Specify dtype option on import or set low_memory=False.\n",
      "  interactivity=interactivity, compiler=compiler, result=result)\n"
     ]
    }
   ],
   "source": [
    "# Load up some data to work with\n",
    "data_fname = join(settings.DATA_IN_ROOT, \"data_staging\", \"all_by_baby_enriched_v3.csv\")\n",
    "df = pd.read_csv(data_fname)\n",
    "print(\"Loaded {} rows of data\".format(len(df)))"
   ]
  },
  {
   "cell_type": "code",
   "execution_count": 11,
   "metadata": {},
   "outputs": [
    {
     "name": "stdout",
     "output_type": "stream",
     "text": [
      "dem_alcohol_norm\n",
      "\tnan 46% 29602\n",
      "\t0.0 51% 32831\n",
      "\t1.0 2% 1355\n",
      "dem_cigarettes_norm\n",
      "\tnan 22% 14010\n",
      "\t0.0 74% 47210\n",
      "\t1.0 4% 2568\n"
     ]
    }
   ],
   "source": [
    "# Test that we can generate some reports, though this should be an actual test, this is really just so that I\n",
    "# can easily run some code to generate tables to send to the guys\n",
    "\n",
    "from scan3.server.data_import import binary_norm\n",
    "\n",
    "df_n = binary_norm.apply_binary_norm(df)\n",
    "report = binary_norm.generate_report(df_n)\n",
    "\n",
    "for k, sub_report in dict(report).items():\n",
    "    print(k)\n",
    "    for k2, v in sub_report.items():\n",
    "        print(\"\\t{}\".format(v))"
   ]
  },
  {
   "cell_type": "markdown",
   "metadata": {},
   "source": [
    "# Overview\n",
    "\n",
    "Define some functions that tidy up and normalise the values for each binary field.\n",
    "\n",
    "Generate some lookup tables that can be incorporated in the main pipeline"
   ]
  },
  {
   "cell_type": "code",
   "execution_count": 6,
   "metadata": {},
   "outputs": [
    {
     "name": "stdout",
     "output_type": "stream",
     "text": [
      "dem_alcohol_norm\n",
      "\tnan 46% 29602\n",
      "\t0.0 51% 32831\n",
      "\t1.0 2% 1355\n",
      "dem_cigarettes_norm\n",
      "\tnan 22% 14010\n",
      "\t0.0 74% 47210\n",
      "\t1.0 4% 2568\n"
     ]
    }
   ],
   "source": [
    "\n",
    "BINARY_FIELD_MAPS = dict(\n",
    "    dem_alcohol={\n",
    "        \"n/k\": None,\n",
    "        \"no alcohol\": 0,\n",
    "        \"alcohol\": 1\n",
    "    },\n",
    "    dem_cigarettes={\n",
    "        \"no\": 0,\n",
    "        \"smoker\": 1\n",
    "    }\n",
    ")\n",
    "\n",
    "def binary_norm(fname, fval):\n",
    "    mapper = BINARY_FIELD_MAPS[fname]\n",
    "    if isinstance(fval, float) and np.isnan(fval):\n",
    "        return None\n",
    "    try:\n",
    "        return mapper[fval.lower()]\n",
    "    except KeyError:\n",
    "        raise KeyError(\"No {} mapping for {}\".format(fname, fval))\n",
    "\n",
    "def get_binary_counts(df, fname):\n",
    "    vals = (\"nan\", 0., 1.)\n",
    "    counts = []\n",
    "    pcts = []\n",
    "    for val in vals:\n",
    "        if val == \"nan\":\n",
    "            counts.append(len(df[df[fname].map(np.isnan) == True]))\n",
    "        else:\n",
    "            counts.append(len(df[(df[fname] == val) == True]))\n",
    "        pcts.append(counts[-1] / float(len(df)))\n",
    "    return zip(vals, pcts, counts)\n",
    "    \n",
    "cat_field_test = [\"dem_alcohol\", \"dem_cigarettes\"]\n",
    "\n",
    "for fname in cat_field_test:\n",
    "    normed_name = \"{}_norm\".format(fname)\n",
    "    df[normed_name] = df[fname].map(lambda x: binary_norm(fname, x))\n",
    "    \n",
    "    print(normed_name)\n",
    "    \n",
    "    for v in get_binary_counts(df, normed_name):\n",
    "        print(\"\\t{} {:.0%} {:.0f}\".format(*v))\n"
   ]
  },
  {
   "cell_type": "code",
   "execution_count": 7,
   "metadata": {},
   "outputs": [
    {
     "name": "stdout",
     "output_type": "stream",
     "text": [
      "{nan, 'No', 'Smoker'}\n"
     ]
    }
   ],
   "source": [
    "print(set(df[\"dem_cigarettes\"]))"
   ]
  }
 ],
 "metadata": {
  "anaconda-cloud": {},
  "kernelspec": {
   "display_name": "Python 3",
   "language": "python",
   "name": "python3"
  },
  "language_info": {
   "codemirror_mode": {
    "name": "ipython",
    "version": 3
   },
   "file_extension": ".py",
   "mimetype": "text/x-python",
   "name": "python",
   "nbconvert_exporter": "python",
   "pygments_lexer": "ipython3",
   "version": "3.6.7"
  }
 },
 "nbformat": 4,
 "nbformat_minor": 1
}
